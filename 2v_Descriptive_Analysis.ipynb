{
 "cells": [
  {
   "cell_type": "code",
   "execution_count": 2,
   "metadata": {
    "id": "-MaFPyHYRNR5",
    "scrolled": true,
    "tags": []
   },
   "outputs": [],
   "source": [
    "import pandas as pd\n",
    "import re\n",
    "import textstat\n",
    "import matplotlib.pyplot as plt\n",
    "import seaborn as sns\n",
    "import warnings\n",
    "warnings.filterwarnings('ignore')\n",
    "%matplotlib inline"
   ]
  },
  {
   "cell_type": "code",
   "execution_count": null,
   "metadata": {
    "colab": {
     "base_uri": "https://localhost:8080/"
    },
    "id": "lqKPnDxiSHRn",
    "outputId": "fd54eefa-e3d8-4097-ab63-6345bd91d812",
    "tags": []
   },
   "outputs": [],
   "source": [
    "df = pd.read_csv('full_gpt_2.csv')\n",
    "df.info()"
   ]
  },
  {
   "cell_type": "code",
   "execution_count": null,
   "metadata": {
    "colab": {
     "base_uri": "https://localhost:8080/",
     "height": 206
    },
    "id": "KNqo_qj5XiLb",
    "outputId": "ee25565d-1f24-4972-aa7f-495988743036",
    "tags": []
   },
   "outputs": [],
   "source": [
    "df = df.iloc[:,1:]\n",
    "df.dropna(inplace=True)\n",
    "df.head()"
   ]
  },
  {
   "cell_type": "code",
   "execution_count": 5,
   "metadata": {
    "colab": {
     "base_uri": "https://localhost:8080/"
    },
    "id": "v6rcRW7xTr0D",
    "outputId": "5cd9eb8b-dba2-4a5b-fd69-8d13612ab79d",
    "tags": []
   },
   "outputs": [
    {
     "data": {
      "text/plain": [
       "array(['Wrong Answer', 'Run Time Error', 'Accepted',\n",
       "       'Time Limit Exceeded', 'Memory Limit Exceeded'], dtype=object)"
      ]
     },
     "execution_count": 5,
     "metadata": {},
     "output_type": "execute_result"
    }
   ],
   "source": [
    "df['Status'].unique()"
   ]
  },
  {
   "cell_type": "markdown",
   "metadata": {
    "id": "UvpJlgfPCCUL"
   },
   "source": [
    "# New features"
   ]
  },
  {
   "cell_type": "code",
   "execution_count": 6,
   "metadata": {
    "id": "JMO466xDYNk0",
    "tags": []
   },
   "outputs": [],
   "source": [
    "# the Flesch Reading Ease Score\n",
    "df['FRE'] = df['Description'].apply(lambda x: textstat.flesch_reading_ease(x))\n",
    "# Sentence Count\n",
    "df['SenCount'] = df['Description'].apply(lambda x: textstat.sentence_count(x))\n",
    "# Lexicon Count\n",
    "df['LexCount'] = df['Description'].apply(lambda x: textstat.lexicon_count(x))\n",
    "# Readability Consensus based upon all the above tests (text standard)\n",
    "df['textStd'] = df['Description'].apply(lambda x: textstat.text_standard(x, float_output=True))\n",
    "\n",
    "df_len = len(df)\n",
    "for index in range(df_len):\n",
    "    if df['Status'][index] != 'Accepted':\n",
    "        df['Pass'][index] = df['Pass'][index] - 1\n",
    "# Test_diff = Total - Pass\n",
    "df['Test_diff'] = df['Pass']/df['Total']"
   ]
  },
  {
   "cell_type": "code",
   "execution_count": 7,
   "metadata": {
    "tags": []
   },
   "outputs": [
    {
     "name": "stdout",
     "output_type": "stream",
     "text": [
      "3323\n"
     ]
    }
   ],
   "source": [
    "print(df_len)"
   ]
  },
  {
   "cell_type": "code",
   "execution_count": null,
   "metadata": {
    "tags": []
   },
   "outputs": [],
   "source": [
    "df.head()"
   ]
  },
  {
   "cell_type": "code",
   "execution_count": null,
   "metadata": {
    "colab": {
     "base_uri": "https://localhost:8080/",
     "height": 300
    },
    "id": "nNKx6UOEZlPT",
    "outputId": "47968a36-e1b0-4c81-c628-b80bf4d67314",
    "tags": []
   },
   "outputs": [],
   "source": [
    "df.describe()"
   ]
  },
  {
   "cell_type": "markdown",
   "metadata": {
    "id": "pwQwYlVQD_4z"
   },
   "source": [
    "# Difficulty "
   ]
  },
  {
   "cell_type": "code",
   "execution_count": 10,
   "metadata": {
    "id": "xYESLXexgbvg",
    "tags": []
   },
   "outputs": [],
   "source": [
    "sns.set(context=\"notebook\", style=\"darkgrid\", palette=\"bright\")"
   ]
  },
  {
   "cell_type": "code",
   "execution_count": null,
   "metadata": {
    "colab": {
     "base_uri": "https://localhost:8080/",
     "height": 398
    },
    "id": "QxyqdyMokjyO",
    "outputId": "c5d049da-3c27-4181-a3d4-ab82fb90e535",
    "tags": []
   },
   "outputs": [],
   "source": [
    "g = sns.displot(data=df, x=\"Difficulty\", kde=True, bins=10, binrange=(1,10), height=5, aspect=1)\n",
    "#g.set(title ='Histogram of Difficulty - 10 bins')\n",
    "g.savefig(\"fig/hist_diff.png\")"
   ]
  },
  {
   "cell_type": "markdown",
   "metadata": {
    "id": "4a_Re_ilEGM4"
   },
   "source": [
    "# Status"
   ]
  },
  {
   "cell_type": "code",
   "execution_count": null,
   "metadata": {
    "colab": {
     "base_uri": "https://localhost:8080/",
     "height": 398
    },
    "id": "4KLME7lzEJMB",
    "outputId": "e73e9bb7-bb39-4903-c76d-7f42223baf84",
    "tags": []
   },
   "outputs": [],
   "source": [
    "g = sns.displot(data=df, x=\"Status\", height=5, aspect=1)\n",
    "g.set(title ='Histogram of Status')"
   ]
  },
  {
   "cell_type": "markdown",
   "metadata": {
    "id": "thqy7L-SEf2s"
   },
   "source": [
    "# Difficulty + Status"
   ]
  },
  {
   "cell_type": "code",
   "execution_count": null,
   "metadata": {
    "colab": {
     "base_uri": "https://localhost:8080/",
     "height": 382
    },
    "id": "gMymvEjeZ_4E",
    "outputId": "afba1b3d-8f96-4f96-a6d3-03a8d8afd07d",
    "tags": []
   },
   "outputs": [],
   "source": [
    "g = sns.displot(data=df, x=\"Difficulty\", hue='Status', multiple=\"stack\", bins=5, binrange=(0,10), height=5, aspect=1)\n",
    "g.savefig(\"fig/hist_diff_status.png\")"
   ]
  },
  {
   "cell_type": "code",
   "execution_count": null,
   "metadata": {
    "colab": {
     "base_uri": "https://localhost:8080/",
     "height": 382
    },
    "id": "2kSNOBhREsSp",
    "outputId": "e469b257-4b2e-4a40-f4d3-2b18399dde80",
    "tags": []
   },
   "outputs": [],
   "source": [
    "sns.displot(data=df, x=\"textStd\", hue='Status', multiple=\"stack\", bins=12, binrange=(6,19), height=5, aspect=1)"
   ]
  },
  {
   "cell_type": "code",
   "execution_count": null,
   "metadata": {
    "tags": []
   },
   "outputs": [],
   "source": [
    "sns.displot(data=df, x=\"SenCount\", hue='Status', multiple=\"stack\", bins=10, binrange=(25,85), height=5, aspect=1)"
   ]
  },
  {
   "cell_type": "code",
   "execution_count": null,
   "metadata": {
    "tags": []
   },
   "outputs": [],
   "source": [
    "sns.displot(data=df, x=\"SenCount\", hue='Status', multiple=\"stack\", bins=12, binrange=(2,39), height=5, aspect=1)"
   ]
  },
  {
   "cell_type": "code",
   "execution_count": null,
   "metadata": {
    "colab": {
     "base_uri": "https://localhost:8080/",
     "height": 382
    },
    "id": "OuVMfG8fFAKh",
    "outputId": "d8568762-10be-474d-c44b-e603d4482af8",
    "tags": []
   },
   "outputs": [],
   "source": [
    "g = sns.displot(data=df, x=\"Difficulty\", hue='Status', kind='kde', height=5, aspect=1)\n",
    "g.savefig(\"fig/dens_diff.png\")"
   ]
  },
  {
   "cell_type": "code",
   "execution_count": null,
   "metadata": {
    "tags": []
   },
   "outputs": [],
   "source": [
    "df['Status'].unique()"
   ]
  },
  {
   "cell_type": "code",
   "execution_count": null,
   "metadata": {
    "tags": []
   },
   "outputs": [],
   "source": [
    "import numpy as np\n",
    "import scipy\n",
    "\n",
    "def ks_analysis(s): \n",
    "    wrong_answer = []\n",
    "    accepted = []\n",
    "    error = []\n",
    "    timelimit = []\n",
    "    memlimit = []\n",
    "    print(s)\n",
    "    for index in df.index:\n",
    "        if(df[\"Status\"][index] == \"Wrong Answer\"):\n",
    "            wrong_answer.append(df[s][index])        \n",
    "        elif(df[\"Status\"][index] == \"Accepted\"):\n",
    "            accepted.append(df[s][index])    \n",
    "        elif(df[\"Status\"][index] == \"Run Time Error\"):\n",
    "            error.append(df[s][index])\n",
    "        elif(df[\"Status\"][index] == \"Time Limit Exceeded\"):\n",
    "            timelimit.append(df[s][index])\n",
    "        elif(df[\"Status\"][index] == \"Memory Limit Exceeded\"):\n",
    "            memlimit.append(df[s][index])\n",
    "    print(\"Accepted vs Wrong Answer &\", scipy.stats.kstest(accepted, wrong_answer).pvalue)\n",
    "    print(\"Accepted vs Run Time Error &\", scipy.stats.kstest(accepted, error).pvalue)\n",
    "    print(\"Accepted vs Time Limit Exceeded &\", scipy.stats.kstest(accepted, timelimit).pvalue)\n",
    "    print(\"Accepted vs Memory Limit Exceeded &\", scipy.stats.kstest(accepted, memlimit).pvalue)\n",
    "    print(\"Wrong Answer vs Error &\", scipy.stats.kstest(wrong_answer, error).pvalue)\n",
    "    print(\"Wrong Answer vs Time Limit Exceeded &\", scipy.stats.kstest(wrong_answer, timelimit).pvalue)\n",
    "    print(\"Wrong Answer vs Memory Limit Exceeded &\", scipy.stats.kstest(wrong_answer, memlimit).pvalue)\n",
    "    print(\"Run Time Error vs Time Limit Exceeded &\", scipy.stats.kstest(error, timelimit).pvalue)\n",
    "    print(\"Run Time Error vs Memory Limit Exceeded &\", scipy.stats.kstest(error, memlimit).pvalue)\n",
    "    print(\"Time Limit Exceeded vs Memory Limit Exceeded &\", scipy.stats.kstest(timelimit, memlimit).pvalue)\n",
    "    sns.displot(data=df, x=s, hue='Status', kind='kde', height=5, aspect=1)\n",
    "    print()\n",
    "\n",
    "#measures = ['Difficulty','FRE','LexCount','textStd']\n",
    "measures = ['Difficulty']\n",
    "for m in measures:\n",
    "    ks_analysis(m)"
   ]
  },
  {
   "cell_type": "code",
   "execution_count": 20,
   "metadata": {
    "tags": []
   },
   "outputs": [],
   "source": [
    "import numpy as np\n",
    "import scipy\n",
    "\n",
    "def status_range(mindiff, maxdiff): \n",
    "    #print('Difficulty range:', mindiff, maxdiff)\n",
    "    print(\"\\\\multicolumn{6}{c}{\\\\textbf{Problem Difficulty: %1.1f - %1.1f}} \\\\\\\\\" % (mindiff,maxdiff))\n",
    "    print(\"\\\\hline\")\n",
    "    prefix_str = \"\"\"\\\\textbf{Status} & \\\\multicolumn{1}{l}{\\\\textbf{Count}} & \\\\multicolumn{1}{l}{\\\\textbf{Mean}} & \\\\multicolumn{1}{l}{\\\\textbf{Minimum}} & \\\\multicolumn{1}{l}{\\\\textbf{Maximum}} & \\\\multicolumn{1}{l}{\\\\textbf{Std. Dev.}} \\\\\\\\\"\"\"\n",
    "    print(prefix_str)\n",
    "    df_tmp = df[(df['Difficulty'] >= mindiff) & (df['Difficulty'] < maxdiff)]\n",
    "    #print(df_tmp)\n",
    "    #print('Problem count:', len(df_tmp))\n",
    "    status = ['Accepted','Wrong Answer', 'Run Time Error', 'Time Limit Exceeded', 'Memory Limit Exceeded']\n",
    "    for st in status:\n",
    "        #print(st)\n",
    "        df_stat = df_tmp[df_tmp['Status'] == st]\n",
    "        #print(df_stat)\n",
    "        if (st == 'Accepted'):\n",
    "            if len(df_stat['Test_diff']) > 0:\n",
    "                x = df_stat['Test_diff'].describe(percentiles=[])\n",
    "                print(\"\\\\textit{%s} & %d &  &  &  & \\\\\\\\\" % (st,len(df_stat)))\n",
    "            else:\n",
    "                print(\"\\\\textit{%s} & 0 &  &  &  &   \\\\\\\\\" % (st))\n",
    "        else:\n",
    "            if len(df_stat['Test_diff']) > 0:\n",
    "                x = df_stat['Test_diff'].describe(percentiles=[])\n",
    "                print(\"\\\\textit{%s} & %d & %2.3f & %2.3f & %2.3f & %2.3f \\\\\\\\\" % (st,len(df_stat),x['mean'],x['min'],x['max'],x['std']))\n",
    "            else:\n",
    "                print(\"\\\\textit{%s} & 0 &  &  &  &   \\\\\\\\\" % (st))\n",
    "    print(\"Total & %d &  &  &  &   \\\\\\\\\" % len(df_tmp))\n",
    "    print(\"\\\\hline\\\\hline\")"
   ]
  },
  {
   "cell_type": "code",
   "execution_count": 21,
   "metadata": {
    "tags": []
   },
   "outputs": [],
   "source": [
    "import numpy as np\n",
    "import scipy\n",
    "\n",
    "def status_range(mindiff, maxdiff): \n",
    "    #print('Difficulty range:', mindiff, maxdiff)\n",
    "    print(\"\\\\multicolumn{6}{c}{\\\\textbf{Problem Difficulty: %1.1f - %1.1f}} \\\\\\\\\" % (mindiff,maxdiff))\n",
    "    print(\"\\\\hline\")\n",
    "    prefix_str = \"\"\"\\\\textbf{Status} & \\\\multicolumn{1}{l}{\\\\textbf{Count}} & \\\\multicolumn{1}{l}{\\\\textbf{Median}} & \\\\multicolumn{1}{l}{\\\\textbf{Mean}} & \\\\multicolumn{1}{l}{\\\\textbf{Min}} & \\\\multicolumn{1}{l}{\\\\textbf{Max}} \\\\\\\\\"\"\"\n",
    "    print(prefix_str)\n",
    "    df_tmp = df[(df['Difficulty'] >= mindiff) & (df['Difficulty'] < maxdiff)]\n",
    "    #print(df_tmp)\n",
    "    #print('Problem count:', len(df_tmp))\n",
    "    status = ['Accepted','Wrong Answer', 'Run Time Error', 'Time Limit Exceeded', 'Memory Limit Exceeded']\n",
    "    for st in status:\n",
    "        #print(st)\n",
    "        df_stat = df_tmp[df_tmp['Status'] == st]\n",
    "        x = df_stat['Total'].describe(percentiles=[])\n",
    "        print(\"\\\\textit{%s} & %d & %2.1f & %2.1f & %2.1f & %2.1f \\\\\\\\\" % (st,len(df_stat),x['50%'],x['mean'],x['min'],x['max']))\n",
    "        #    else:\n",
    "        #        print(\"\\\\textit{%s} & 0 &  &  &  &   \\\\\\\\\" % (st))\n",
    "    print(\"Total & %d &  &  &  &   \\\\\\\\\" % len(df_tmp))\n",
    "    print(\"\\\\hline\\\\hline\")"
   ]
  },
  {
   "cell_type": "code",
   "execution_count": null,
   "metadata": {
    "tags": []
   },
   "outputs": [],
   "source": [
    "df['Test_diff'].describe(percentiles=[])['50%']"
   ]
  },
  {
   "cell_type": "code",
   "execution_count": null,
   "metadata": {
    "tags": []
   },
   "outputs": [],
   "source": [
    "df['Total'].unique().mean()#.describe()"
   ]
  },
  {
   "cell_type": "code",
   "execution_count": null,
   "metadata": {
    "tags": []
   },
   "outputs": [],
   "source": [
    "status_range(0,2)\n",
    "status_range(2,4)\n",
    "status_range(4,6)\n",
    "status_range(6,8)\n",
    "status_range(8,10)"
   ]
  },
  {
   "cell_type": "code",
   "execution_count": null,
   "metadata": {
    "id": "4jUgYfbhdmC2",
    "tags": []
   },
   "outputs": [],
   "source": [
    "g = sns.FacetGrid(df, col=\"Status\", col_wrap=2)\n",
    "g.map_dataframe(sns.histplot, x=\"Difficulty\", binrange=(0,10),binwidth = 2)\n",
    "g.savefig(\"fig/hist_diff_status_plots.png\")"
   ]
  },
  {
   "cell_type": "markdown",
   "metadata": {
    "id": "BmdpVdE_FJbV"
   },
   "source": [
    "# Correlation"
   ]
  },
  {
   "cell_type": "code",
   "execution_count": null,
   "metadata": {
    "tags": []
   },
   "outputs": [],
   "source": [
    "df.info()"
   ]
  },
  {
   "cell_type": "code",
   "execution_count": null,
   "metadata": {
    "colab": {
     "base_uri": "https://localhost:8080/",
     "height": 1000
    },
    "id": "E2CwLi41Vyte",
    "outputId": "71432ee0-e883-4393-adef-5aeb7070606b",
    "tags": []
   },
   "outputs": [],
   "source": [
    "from sklearn import preprocessing\n",
    "\n",
    "df_encode = df.copy()\n",
    "df_encode = df_encode.drop(['Problem','Description'], axis=1)\n",
    "le = preprocessing.LabelEncoder()\n",
    "df_encode['Status'] = le.fit_transform(df_encode['Status'])\n",
    "\n",
    "sns.set(font_scale = 2)\n",
    "plt.figure(figsize=(20,20))\n",
    "sns.heatmap(df_encode.corr(), cmap=\"YlGnBu\", annot=True)"
   ]
  },
  {
   "cell_type": "markdown",
   "metadata": {
    "id": "x4mv2u3QG0-J"
   },
   "source": [
    "# Test_diff"
   ]
  },
  {
   "cell_type": "code",
   "execution_count": null,
   "metadata": {
    "colab": {
     "base_uri": "https://localhost:8080/",
     "height": 302
    },
    "id": "S8KBHO78Guoa",
    "outputId": "ea808d26-c8b5-4774-9361-43fe9407c1e9",
    "tags": []
   },
   "outputs": [],
   "source": [
    "sns.set(font_scale = 1)\n",
    "sns.scatterplot(data=df, x='Difficulty', y='Test_diff')"
   ]
  },
  {
   "cell_type": "code",
   "execution_count": null,
   "metadata": {
    "colab": {
     "base_uri": "https://localhost:8080/",
     "height": 302
    },
    "id": "iSQsPy6XIpbq",
    "outputId": "edfa96a6-eaab-41ac-fb46-b0378f0e48d4",
    "tags": []
   },
   "outputs": [],
   "source": [
    "sns.scatterplot(data=df, x='Difficulty', y='Test_diff', hue='Status')"
   ]
  },
  {
   "cell_type": "code",
   "execution_count": null,
   "metadata": {
    "colab": {
     "base_uri": "https://localhost:8080/",
     "height": 454
    },
    "id": "Ln1d57-oHXoE",
    "outputId": "6981270d-5a18-4d84-e06e-23f14bc3b6d9",
    "tags": []
   },
   "outputs": [],
   "source": [
    "sns.jointplot(data=df, x='Difficulty', y='Test_diff')"
   ]
  },
  {
   "cell_type": "code",
   "execution_count": null,
   "metadata": {
    "colab": {
     "base_uri": "https://localhost:8080/",
     "height": 526
    },
    "id": "D_z-3FKdH8-7",
    "outputId": "43a8117a-c60e-48c1-dfca-1c20f3b226b5",
    "tags": []
   },
   "outputs": [],
   "source": [
    "sns.jointplot(data=df, x='Difficulty', y='Test_diff', hue='Status', height=7)"
   ]
  }
 ],
 "metadata": {
  "accelerator": "GPU",
  "colab": {
   "provenance": []
  },
  "gpuClass": "standard",
  "kernelspec": {
   "display_name": "Python 3 (ipykernel)",
   "language": "python",
   "name": "python3"
  },
  "language_info": {
   "codemirror_mode": {
    "name": "ipython",
    "version": 3
   },
   "file_extension": ".py",
   "mimetype": "text/x-python",
   "name": "python",
   "nbconvert_exporter": "python",
   "pygments_lexer": "ipython3",
   "version": "3.11.5"
  },
  "vscode": {
   "interpreter": {
    "hash": "0338e61295d1aca02160253f0caf20412f867af2313189bd3cee902ac797b084"
   }
  }
 },
 "nbformat": 4,
 "nbformat_minor": 4
}
